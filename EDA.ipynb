{
 "cells": [
  {
   "cell_type": "markdown",
   "id": "9a194331-5289-45a7-a270-63545942745a",
   "metadata": {},
   "source": [
    "# NECC Subscriber Growth Analysis Plan\n",
    "## 1. Exploratory Data Analysis (EDA)\n",
    "### 1.1 Data Collection and Preparation"
   ]
  },
  {
   "cell_type": "code",
   "execution_count": 34,
   "id": "f0ce1246-d1de-4196-a6cb-fa96c2a56dab",
   "metadata": {},
   "outputs": [
    {
     "data": {
      "text/html": [
       "<div>\n",
       "<style scoped>\n",
       "    .dataframe tbody tr th:only-of-type {\n",
       "        vertical-align: middle;\n",
       "    }\n",
       "\n",
       "    .dataframe tbody tr th {\n",
       "        vertical-align: top;\n",
       "    }\n",
       "\n",
       "    .dataframe thead th {\n",
       "        text-align: right;\n",
       "    }\n",
       "</style>\n",
       "<table border=\"1\" class=\"dataframe\">\n",
       "  <thead>\n",
       "    <tr style=\"text-align: right;\">\n",
       "      <th></th>\n",
       "      <th>video_id</th>\n",
       "      <th>language</th>\n",
       "      <th>views</th>\n",
       "      <th>subscriber_conversion</th>\n",
       "      <th>engagement_rate</th>\n",
       "      <th>video_length</th>\n",
       "      <th>ai_generated</th>\n",
       "    </tr>\n",
       "  </thead>\n",
       "  <tbody>\n",
       "    <tr>\n",
       "      <th>95</th>\n",
       "      <td>96</td>\n",
       "      <td>French</td>\n",
       "      <td>10751.966542</td>\n",
       "      <td>0.037998</td>\n",
       "      <td>0.194960</td>\n",
       "      <td>274.501141</td>\n",
       "      <td>True</td>\n",
       "    </tr>\n",
       "    <tr>\n",
       "      <th>96</th>\n",
       "      <td>97</td>\n",
       "      <td>French</td>\n",
       "      <td>12803.121136</td>\n",
       "      <td>0.034154</td>\n",
       "      <td>0.200102</td>\n",
       "      <td>761.742694</td>\n",
       "      <td>True</td>\n",
       "    </tr>\n",
       "    <tr>\n",
       "      <th>97</th>\n",
       "      <td>98</td>\n",
       "      <td>French</td>\n",
       "      <td>NaN</td>\n",
       "      <td>0.036703</td>\n",
       "      <td>0.169851</td>\n",
       "      <td>755.688734</td>\n",
       "      <td>True</td>\n",
       "    </tr>\n",
       "    <tr>\n",
       "      <th>98</th>\n",
       "      <td>99</td>\n",
       "      <td>French</td>\n",
       "      <td>14958.867856</td>\n",
       "      <td>0.028467</td>\n",
       "      <td>0.173413</td>\n",
       "      <td>708.270561</td>\n",
       "      <td>True</td>\n",
       "    </tr>\n",
       "    <tr>\n",
       "      <th>99</th>\n",
       "      <td>100</td>\n",
       "      <td>French</td>\n",
       "      <td>15972.272812</td>\n",
       "      <td>0.029959</td>\n",
       "      <td>0.178063</td>\n",
       "      <td>358.569840</td>\n",
       "      <td>True</td>\n",
       "    </tr>\n",
       "  </tbody>\n",
       "</table>\n",
       "</div>"
      ],
      "text/plain": [
       "    video_id language         views  subscriber_conversion  engagement_rate  \\\n",
       "95        96   French  10751.966542               0.037998         0.194960   \n",
       "96        97   French  12803.121136               0.034154         0.200102   \n",
       "97        98   French           NaN               0.036703         0.169851   \n",
       "98        99   French  14958.867856               0.028467         0.173413   \n",
       "99       100   French  15972.272812               0.029959         0.178063   \n",
       "\n",
       "    video_length  ai_generated  \n",
       "95    274.501141          True  \n",
       "96    761.742694          True  \n",
       "97    755.688734          True  \n",
       "98    708.270561          True  \n",
       "99    358.569840          True  "
      ]
     },
     "execution_count": 34,
     "metadata": {},
     "output_type": "execute_result"
    }
   ],
   "source": [
    "import pandas as pd\n",
    "import numpy as np\n",
    "from scipy import stats\n",
    "import matplotlib.pyplot as plt\n",
    "import seaborn as sns\n",
    "# French content is generated with higher conversion rates\n",
    "necc_data = pd.DataFrame({\n",
    "    'video_id': range(1, 101),\n",
    "    'language': ['English'] * 80 + ['French'] * 20,\n",
    "    # French videos have higher average views (12000 vs 10000)\n",
    "    'views': np.concatenate([\n",
    "        np.random.normal(10000, 2000, 80),  # English\n",
    "        np.random.normal(12000, 2000, 20)   # French\n",
    "    ]),\n",
    "    # French videos have higher conversion rate (3.2% vs 2.68%)\n",
    "    'subscriber_conversion': np.concatenate([\n",
    "        np.random.normal(0.0268, 0.003, 80),  # English\n",
    "        np.random.normal(0.032, 0.003, 20)    # French\n",
    "    ]),\n",
    "    # French videos show higher engagement (18% vs 15%)\n",
    "    'engagement_rate': np.concatenate([\n",
    "        np.random.normal(0.15, 0.02, 80),    # English\n",
    "        np.random.normal(0.18, 0.02, 20)     # French\n",
    "    ]),\n",
    "    'video_length': np.random.normal(600, 120, 100),  # in seconds\n",
    "    'ai_generated': [False] * 80 + [True] * 20\n",
    "})\n",
    "\n",
    "# Add some missing values for realistic scenario\n",
    "necc_data.loc[np.random.choice(necc_data.index, 10), 'views'] = np.nan\n",
    "necc_data.loc[np.random.choice(necc_data.index, 5), 'subscriber_conversion'] = np.nan\n",
    "\n",
    "necc_data.tail(5)"
   ]
  },
  {
   "cell_type": "markdown",
   "id": "c8438a52-bd05-498a-913c-65835bcbafc1",
   "metadata": {},
   "source": [
    "### 1.2 Missing Data Analysis"
   ]
  },
  {
   "cell_type": "code",
   "execution_count": 35,
   "id": "f47902b4-df49-427a-b993-cded81437d00",
   "metadata": {},
   "outputs": [
    {
     "data": {
      "text/html": [
       "<div>\n",
       "<style scoped>\n",
       "    .dataframe tbody tr th:only-of-type {\n",
       "        vertical-align: middle;\n",
       "    }\n",
       "\n",
       "    .dataframe tbody tr th {\n",
       "        vertical-align: top;\n",
       "    }\n",
       "\n",
       "    .dataframe thead th {\n",
       "        text-align: right;\n",
       "    }\n",
       "</style>\n",
       "<table border=\"1\" class=\"dataframe\">\n",
       "  <thead>\n",
       "    <tr style=\"text-align: right;\">\n",
       "      <th></th>\n",
       "      <th>video_id</th>\n",
       "      <th>language</th>\n",
       "      <th>views</th>\n",
       "      <th>subscriber_conversion</th>\n",
       "      <th>engagement_rate</th>\n",
       "      <th>video_length</th>\n",
       "      <th>ai_generated</th>\n",
       "    </tr>\n",
       "  </thead>\n",
       "  <tbody>\n",
       "    <tr>\n",
       "      <th>0</th>\n",
       "      <td>1</td>\n",
       "      <td>English</td>\n",
       "      <td>8711.449640</td>\n",
       "      <td>0.022231</td>\n",
       "      <td>0.116411</td>\n",
       "      <td>542.936335</td>\n",
       "      <td>False</td>\n",
       "    </tr>\n",
       "    <tr>\n",
       "      <th>1</th>\n",
       "      <td>2</td>\n",
       "      <td>English</td>\n",
       "      <td>12711.940771</td>\n",
       "      <td>0.023392</td>\n",
       "      <td>0.137899</td>\n",
       "      <td>721.882433</td>\n",
       "      <td>False</td>\n",
       "    </tr>\n",
       "    <tr>\n",
       "      <th>2</th>\n",
       "      <td>3</td>\n",
       "      <td>English</td>\n",
       "      <td>10625.375372</td>\n",
       "      <td>0.027478</td>\n",
       "      <td>0.165238</td>\n",
       "      <td>524.722735</td>\n",
       "      <td>False</td>\n",
       "    </tr>\n",
       "    <tr>\n",
       "      <th>3</th>\n",
       "      <td>4</td>\n",
       "      <td>English</td>\n",
       "      <td>8701.505443</td>\n",
       "      <td>0.028624</td>\n",
       "      <td>0.154253</td>\n",
       "      <td>750.198177</td>\n",
       "      <td>False</td>\n",
       "    </tr>\n",
       "    <tr>\n",
       "      <th>4</th>\n",
       "      <td>5</td>\n",
       "      <td>English</td>\n",
       "      <td>8302.958601</td>\n",
       "      <td>0.026766</td>\n",
       "      <td>0.167357</td>\n",
       "      <td>555.963216</td>\n",
       "      <td>False</td>\n",
       "    </tr>\n",
       "  </tbody>\n",
       "</table>\n",
       "</div>"
      ],
      "text/plain": [
       "   video_id language         views  subscriber_conversion  engagement_rate  \\\n",
       "0         1  English   8711.449640               0.022231         0.116411   \n",
       "1         2  English  12711.940771               0.023392         0.137899   \n",
       "2         3  English  10625.375372               0.027478         0.165238   \n",
       "3         4  English   8701.505443               0.028624         0.154253   \n",
       "4         5  English   8302.958601               0.026766         0.167357   \n",
       "\n",
       "   video_length  ai_generated  \n",
       "0    542.936335         False  \n",
       "1    721.882433         False  \n",
       "2    524.722735         False  \n",
       "3    750.198177         False  \n",
       "4    555.963216         False  "
      ]
     },
     "execution_count": 35,
     "metadata": {},
     "output_type": "execute_result"
    }
   ],
   "source": [
    "# Calculate missingness\n",
    "missing_data = pd.DataFrame({\n",
    "    'missing_count': necc_data.isnull().sum(),\n",
    "    'missing_percentage': (necc_data.isnull().sum() / len(necc_data) * 100)\n",
    "})\n",
    "\n",
    "# Handle missing values\n",
    "necc_data['views'] = necc_data['views'].fillna(necc_data['views'].mean())\n",
    "necc_data['subscriber_conversion'] = necc_data['subscriber_conversion'].fillna(necc_data['subscriber_conversion'].median())\n",
    "necc_data.head(5)"
   ]
  },
  {
   "cell_type": "markdown",
   "id": "6165bf40-1505-41a9-a0ea-7fa8c5532c0d",
   "metadata": {},
   "source": [
    "### 1.3 Descriptive Statistics"
   ]
  },
  {
   "cell_type": "code",
   "execution_count": 38,
   "id": "a1c455bb-2c47-4903-9e9f-b0f583b66314",
   "metadata": {},
   "outputs": [
    {
     "name": "stdout",
     "output_type": "stream",
     "text": [
      "         video_id         views  subscriber_conversion  engagement_rate  \\\n",
      "count  100.000000    100.000000             100.000000       100.000000   \n",
      "mean    50.500000  10625.375372               0.028415         0.155345   \n",
      "std     29.011492   2202.195528               0.004173         0.025341   \n",
      "min      1.000000   3043.661573               0.019781         0.078636   \n",
      "25%     25.750000   9409.617360               0.026208         0.137437   \n",
      "50%     50.500000  10625.375372               0.028624         0.154173   \n",
      "75%     75.250000  11615.654642               0.030514         0.173351   \n",
      "max    100.000000  17146.649904               0.041523         0.207347   \n",
      "\n",
      "       video_length  \n",
      "count    100.000000  \n",
      "mean     603.745881  \n",
      "std      119.507943  \n",
      "min      274.501141  \n",
      "25%      535.062392  \n",
      "50%      602.484960  \n",
      "75%      683.361938  \n",
      "max      931.291432  \n",
      "               views            subscriber_conversion         engagement_rate  \\\n",
      "                mean        std                  mean     std            mean   \n",
      "language                                                                        \n",
      "English   10367.2980  2036.9448                0.0273  0.0034          0.1481   \n",
      "French    11657.6847  2572.0452                0.0327  0.0042          0.1841   \n",
      "\n",
      "                  \n",
      "             std  \n",
      "language          \n",
      "English   0.0221  \n",
      "French    0.0152  \n"
     ]
    }
   ],
   "source": [
    "# Generate summary statistics\n",
    "summary_stats = necc_data.describe()\n",
    "\n",
    "# Calculate key metrics by language\n",
    "language_metrics = necc_data.groupby('language').agg({\n",
    "    'views': ['mean', 'std'],\n",
    "    'subscriber_conversion': ['mean', 'std'],\n",
    "    'engagement_rate': ['mean', 'std']\n",
    "}).round(4)\n",
    "\n",
    "print(summary_stats)\n",
    "\n",
    "print(language_metrics)"
   ]
  },
  {
   "cell_type": "markdown",
   "id": "43c15cc3-7bf6-4cc6-be6f-6b26066b2c95",
   "metadata": {},
   "source": [
    "### 1.4 Visualization"
   ]
  },
  {
   "cell_type": "code",
   "execution_count": 39,
   "id": "47791120-20f9-48c4-b043-62cecd687d5d",
   "metadata": {},
   "outputs": [
    {
     "data": {
      "text/plain": [
       "Text(0, 0.5, 'Count')"
      ]
     },
     "execution_count": 39,
     "metadata": {},
     "output_type": "execute_result"
    },
    {
     "data": {
      "image/png": "[encoded data removed]",
      "text/plain": [
       "<Figure size 1000x600 with 1 Axes>"
      ]
     },
     "metadata": {},
     "output_type": "display_data"
    },
    {
     "data": {
      "image/png": "[encoded data removed]",
      "text/plain": [
       "<Figure size 1000x600 with 1 Axes>"
      ]
     },
     "metadata": {},
     "output_type": "display_data"
    }
   ],
   "source": [
    "# Conversion Rate Distribution by Language\n",
    "plt.figure(figsize=(10, 6))\n",
    "sns.boxplot(x='language', y='subscriber_conversion', data=necc_data)\n",
    "plt.title('Subscriber Conversion Rate by Language')\n",
    "plt.ylabel('Conversion Rate')\n",
    "\n",
    "# Views Distribution\n",
    "plt.figure(figsize=(10, 6))\n",
    "sns.histplot(data=necc_data, x='views', hue='language', multiple=\"stack\")\n",
    "plt.title('Distribution of Video Views by Language')\n",
    "plt.xlabel('Views')\n",
    "plt.ylabel('Count')"
   ]
  },
  {
   "cell_type": "markdown",
   "id": "6113452e-7eaa-4f16-961d-e2171b9661b7",
   "metadata": {},
   "source": [
    "# 2. Statistical Tests\n",
    "## 2.1 Hypothesis Definition\n",
    "H0 (Null Hypothesis): There is no significant difference in subscriber conversion rates between AI-generated French content and traditional English content.\n",
    "\n",
    "\n",
    "H1 (Alternative Hypothesis): AI-generated French content has a significantly different subscriber conversion rate compared to traditional English content."
   ]
  },
  {
   "cell_type": "markdown",
   "id": "b14d8440-6ad8-4ec8-9acd-05ab51f23261",
   "metadata": {},
   "source": [
    "### 2.2 Independent T-Test Implementation"
   ]
  },
  {
   "cell_type": "code",
   "execution_count": 40,
   "id": "e1256d3f-14b9-45d3-9fd8-41c103542c0f",
   "metadata": {},
   "outputs": [
    {
     "name": "stdout",
     "output_type": "stream",
     "text": [
      "{'levene_stat': np.float64(1.6869631785803842), 'levene_p': np.float64(0.19704953187834806), 't_stat': np.float64(6.012427794058735), 'p_value': np.float64(3.14146030228954e-08)}\n"
     ]
    }
   ],
   "source": [
    "def perform_ttest(data):\n",
    "    # Separate groups\n",
    "    french_data = data[data['language'] == 'French']['subscriber_conversion']\n",
    "    english_data = data[data['language'] == 'English']['subscriber_conversion']\n",
    "    \n",
    "    # Perform Levene's test for equal variances\n",
    "    levene_stat, levene_p = stats.levene(french_data, english_data)\n",
    "    \n",
    "    # Perform t-test\n",
    "    t_stat, p_value = stats.ttest_ind(french_data, english_data, equal_var=(levene_p > 0.05))\n",
    "    \n",
    "    return {\n",
    "        'levene_stat': levene_stat,\n",
    "        'levene_p': levene_p,\n",
    "        't_stat': t_stat,\n",
    "        'p_value': p_value\n",
    "    }\n",
    "\n",
    "# Run the test\n",
    "test_results = perform_ttest(necc_data)\n",
    "print(test_results)"
   ]
  },
  {
   "cell_type": "markdown",
   "id": "91d8aae7-7b48-4f32-968d-4bf6d5c55069",
   "metadata": {},
   "source": [
    "### 2.3 Effect Size Calculation"
   ]
  },
  {
   "cell_type": "code",
   "execution_count": 41,
   "id": "51794477-fa37-43a7-9293-a44d04f4c1c9",
   "metadata": {},
   "outputs": [
    {
     "name": "stdout",
     "output_type": "stream",
     "text": [
      "1.503106948514684\n"
     ]
    }
   ],
   "source": [
    "def calculate_cohens_d(data):\n",
    "    french_data = data[data['language'] == 'French']['subscriber_conversion']\n",
    "    english_data = data[data['language'] == 'English']['subscriber_conversion']\n",
    "    \n",
    "    n1, n2 = len(french_data), len(english_data)\n",
    "    var1, var2 = french_data.var(), english_data.var()\n",
    "    \n",
    "    # Pooled standard deviation\n",
    "    pooled_se = np.sqrt(((n1 - 1) * var1 + (n2 - 1) * var2) / (n1 + n2 - 2))\n",
    "    \n",
    "    # Cohen's d\n",
    "    cohens_d = (french_data.mean() - english_data.mean()) / pooled_se\n",
    "    \n",
    "    return cohens_d\n",
    "\n",
    "effect_size = calculate_cohens_d(necc_data)\n",
    "print(effect_size)"
   ]
  },
  {
   "cell_type": "markdown",
   "id": "f06f189d-7ac9-486e-beb8-98174b729da1",
   "metadata": {},
   "source": [
    "# 3. Results Interpretation\n",
    "\n",
    "\n",
    "## Statistical Test Results Interpretation\n",
    "### 1. Levene's Test Results\n",
    "\n",
    "     Statistic: 1.6870\n",
    "     P-value: 0.1970\n",
    "### Interpretation:\n",
    "\n",
    "#### The Levene's test p-value  p-value (0.1970) is > 0.05, which means we fail to reject the null hypothesis of equal variances\n",
    "#### This indicates that the variances in subscriber conversion rates between French and English content are not significantly different\n",
    "#### This validates our use of the standard independent t-test (rather than Welch's t-test)\n",
    "\n",
    "## 2. T-Test Results\n",
    "\n",
    "#### T-statistic: 6.0124\n",
    "#### P-value: 3.141e-08 (0.00000003141)\n",
    "\n",
    "### Interpretation:\n",
    "\n",
    "#### The extremely small p-value (3.141e-08) is far below the conventional significance level of 0.05\n",
    "#### This provides very strong evidence to reject the null hypothesis\n",
    "#### The high t-statistic (6.0979) indicates a large standardized difference between the means\n",
    "\n",
    "## 3. Statistical Significance\n",
    "#### We can definitively reject the null hypothesis because:\n",
    "\n",
    "#### P-value 3.141e-08) << 0.05  significance level\n",
    "#### The chance of observing these differences by random chance is extremely small (about 0.00000002135 or 0.000002135%)"
   ]
  },
  {
   "cell_type": "code",
   "execution_count": null,
   "id": "a2d72c9c-26fb-4c0d-b088-a92d38f5aef1",
   "metadata": {},
   "outputs": [],
   "source": []
  },
  {
   "cell_type": "code",
   "execution_count": null,
   "id": "d0b53415-c383-46d8-92ef-d7f7d51f9ef4",
   "metadata": {},
   "outputs": [],
   "source": []
  }
 ],
 "metadata": {
  "kernelspec": {
   "display_name": "my_env",
   "language": "python",
   "name": "my_env"
  },
  "language_info": {
   "codemirror_mode": {
    "name": "ipython",
    "version": 3
   },
   "file_extension": ".py",
   "mimetype": "text/x-python",
   "name": "python",
   "nbconvert_exporter": "python",
   "pygments_lexer": "ipython3",
   "version": "3.12.6"
  }
 },
 "nbformat": 4,
 "nbformat_minor": 5
}
